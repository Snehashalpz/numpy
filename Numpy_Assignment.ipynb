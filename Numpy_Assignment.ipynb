{
 "cells": [
  {
   "cell_type": "markdown",
   "id": "c9bbb80a",
   "metadata": {},
   "source": [
    "# 1. Create a null vector of size 10 but the fifth value which is 1."
   ]
  },
  {
   "cell_type": "code",
   "execution_count": 85,
   "id": "74d5c828",
   "metadata": {},
   "outputs": [
    {
     "name": "stdout",
     "output_type": "stream",
     "text": [
      "[0. 0. 0. 0. 1. 0. 0. 0. 0. 0.]\n"
     ]
    }
   ],
   "source": [
    "import numpy as np\n",
    "x=np.zeros(10)\n",
    "x[4]=1\n",
    "print(x)"
   ]
  },
  {
   "cell_type": "markdown",
   "id": "649dbc8f",
   "metadata": {},
   "source": [
    "# 2. Create a vector with values ranging from 10 to 49."
   ]
  },
  {
   "cell_type": "code",
   "execution_count": 92,
   "id": "9b21dc4f",
   "metadata": {},
   "outputs": [
    {
     "name": "stdout",
     "output_type": "stream",
     "text": [
      "[10 11 12 13 14 15 16 17 18 19 20 21 22 23 24 25 26 27 28 29 30 31 32 33\n",
      " 34 35 36 37 38 39 40 41 42 43 44 45 46 47 48]\n"
     ]
    }
   ],
   "source": [
    "sa=np.arange(10,49)\n",
    "print(sa)"
   ]
  },
  {
   "cell_type": "markdown",
   "id": "a3752b51",
   "metadata": {},
   "source": [
    "# 3.Create a 3x3 matrix with values ranging from 0 to 8"
   ]
  },
  {
   "cell_type": "code",
   "execution_count": 87,
   "id": "1add5153",
   "metadata": {},
   "outputs": [
    {
     "data": {
      "text/plain": [
       "array([[0, 1, 2],\n",
       "       [3, 4, 5],\n",
       "       [6, 7, 8]])"
      ]
     },
     "execution_count": 87,
     "metadata": {},
     "output_type": "execute_result"
    }
   ],
   "source": [
    "val=np.arange(0,9).reshape(3,3)\n",
    "val"
   ]
  },
  {
   "cell_type": "markdown",
   "id": "85b1e18e",
   "metadata": {},
   "source": [
    "# 4. Find indices of non-zero elements from [1,2,0,0,4,0]"
   ]
  },
  {
   "cell_type": "code",
   "execution_count": 89,
   "id": "df285fea",
   "metadata": {},
   "outputs": [
    {
     "name": "stdout",
     "output_type": "stream",
     "text": [
      "original_array [1 2 0 0 4 0]\n",
      "(array([0, 1, 4], dtype=int64),)\n"
     ]
    }
   ],
   "source": [
    "n_array = np.array([1,2,0,0,4,0])\n",
    "print('original_array',n_array)\n",
    "\n",
    "res=np.nonzero(n_array)\n",
    "print(res)\n"
   ]
  },
  {
   "cell_type": "markdown",
   "id": "27d7deba",
   "metadata": {},
   "source": [
    "# Create a 10x10 array with random values and find the minimum and maximum values."
   ]
  },
  {
   "cell_type": "code",
   "execution_count": 90,
   "id": "dfcc0e92",
   "metadata": {},
   "outputs": [
    {
     "name": "stdout",
     "output_type": "stream",
     "text": [
      "Original Array:\n",
      "[[0.35435918 0.25083634 0.21142214 0.39426167 0.26854429 0.74537742\n",
      "  0.32753682 0.56180479 0.35538424 0.37193128]\n",
      " [0.7569312  0.96257976 0.22583336 0.29055805 0.32026801 0.67994955\n",
      "  0.83051919 0.64861174 0.51195172 0.05599336]\n",
      " [0.94284522 0.42516461 0.16960589 0.73198354 0.02219938 0.66447615\n",
      "  0.64535254 0.09306413 0.37914937 0.78287248]\n",
      " [0.09387879 0.25001378 0.21381224 0.70752714 0.99562203 0.9749597\n",
      "  0.90448354 0.98997922 0.90909085 0.39727252]\n",
      " [0.07338792 0.67510621 0.57291306 0.90640708 0.17437235 0.11045405\n",
      "  0.9022813  0.35626176 0.90898254 0.72855068]\n",
      " [0.77101038 0.19225413 0.15798165 0.26997755 0.76884116 0.71213329\n",
      "  0.87709007 0.16890442 0.480054   0.63057878]\n",
      " [0.71176473 0.62897496 0.82676134 0.60261282 0.68658167 0.33576333\n",
      "  0.54888386 0.46087525 0.66614834 0.08052619]\n",
      " [0.96547454 0.85208477 0.98443553 0.10356154 0.77494218 0.96300637\n",
      "  0.82428714 0.17786639 0.61073925 0.02298685]\n",
      " [0.45973612 0.46383552 0.36972354 0.73925832 0.60033321 0.45165402\n",
      "  0.32209557 0.84956407 0.31924632 0.62894455]\n",
      " [0.05340772 0.68775171 0.66881756 0.55031245 0.7463746  0.82304993\n",
      "  0.7915799  0.78303308 0.31822689 0.09079354]]\n",
      "Minimum and Maximum Values:\n",
      "0.022199380130897062 0.995622026121045\n"
     ]
    }
   ],
   "source": [
    "x = np.random.random((10,10))\n",
    "print(\"Original Array:\")\n",
    "print(x) \n",
    "xmin, xmax = x.min(), x.max()\n",
    "print(\"Minimum and Maximum Values:\")\n",
    "print(xmin, xmax)"
   ]
  },
  {
   "cell_type": "markdown",
   "id": "6998aa80",
   "metadata": {},
   "source": [
    "# 6. Create a random vector of size 30 and find the mean value."
   ]
  },
  {
   "cell_type": "code",
   "execution_count": 91,
   "id": "bd8bf445",
   "metadata": {},
   "outputs": [
    {
     "name": "stdout",
     "output_type": "stream",
     "text": [
      "[0.7154758  0.51901476 0.29055818 0.23307859 0.03833084 0.78509951\n",
      " 0.99396895 0.7003535  0.94700148 0.97327897 0.70294381 0.05263548\n",
      " 0.0343059  0.83950131 0.06698861 0.10865661 0.59299792 0.97484359\n",
      " 0.92619889 0.76008759 0.85021781 0.57053698 0.91491439 0.21628924\n",
      " 0.19889667 0.09610979 0.27066655 0.58373586 0.52788516 0.85237362]\n",
      "The Mean Value is: \n"
     ]
    },
    {
     "data": {
      "text/plain": [
       "0.5445648784544183"
      ]
     },
     "execution_count": 91,
     "metadata": {},
     "output_type": "execute_result"
    }
   ],
   "source": [
    "a=np.random.random(30)\n",
    "print(a)\n",
    "\n",
    "print(\"The Mean Value is: \")\n",
    "a.mean()"
   ]
  }
 ],
 "metadata": {
  "kernelspec": {
   "display_name": "Python 3 (ipykernel)",
   "language": "python",
   "name": "python3"
  },
  "language_info": {
   "codemirror_mode": {
    "name": "ipython",
    "version": 3
   },
   "file_extension": ".py",
   "mimetype": "text/x-python",
   "name": "python",
   "nbconvert_exporter": "python",
   "pygments_lexer": "ipython3",
   "version": "3.10.9"
  }
 },
 "nbformat": 4,
 "nbformat_minor": 5
}
